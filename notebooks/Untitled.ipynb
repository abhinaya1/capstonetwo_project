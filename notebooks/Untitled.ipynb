{
 "cells": [
  {
   "cell_type": "code",
   "execution_count": 113,
   "id": "b9e619dd-aac6-41a3-89fd-4e1d924c5130",
   "metadata": {},
   "outputs": [],
   "source": [
    "import pandas as pd\n",
    "import matplotlib.pyplot as plt\n",
    "import seaborn as sns"
   ]
  },
  {
   "cell_type": "code",
   "execution_count": 115,
   "id": "5e12816c-9c0b-4a8f-ba40-24cf877a1403",
   "metadata": {},
   "outputs": [],
   "source": [
    "data = pd.read_csv(\"../data/raw/Ecommerce_Sales_Prediction_Dataset.csv\")"
   ]
  },
  {
   "cell_type": "code",
   "execution_count": 117,
   "id": "1f81d9c8-a1d5-420f-bb26-ce2be04f7693",
   "metadata": {},
   "outputs": [
    {
     "data": {
      "text/html": [
       "<div>\n",
       "<style scoped>\n",
       "    .dataframe tbody tr th:only-of-type {\n",
       "        vertical-align: middle;\n",
       "    }\n",
       "\n",
       "    .dataframe tbody tr th {\n",
       "        vertical-align: top;\n",
       "    }\n",
       "\n",
       "    .dataframe thead th {\n",
       "        text-align: right;\n",
       "    }\n",
       "</style>\n",
       "<table border=\"1\" class=\"dataframe\">\n",
       "  <thead>\n",
       "    <tr style=\"text-align: right;\">\n",
       "      <th></th>\n",
       "      <th>Date</th>\n",
       "      <th>Product_Category</th>\n",
       "      <th>Price</th>\n",
       "      <th>Discount</th>\n",
       "      <th>Customer_Segment</th>\n",
       "      <th>Marketing_Spend</th>\n",
       "      <th>Units_Sold</th>\n",
       "    </tr>\n",
       "  </thead>\n",
       "  <tbody>\n",
       "    <tr>\n",
       "      <th>0</th>\n",
       "      <td>01-01-2023</td>\n",
       "      <td>Sports</td>\n",
       "      <td>932.80</td>\n",
       "      <td>35.82</td>\n",
       "      <td>Occasional</td>\n",
       "      <td>6780.38</td>\n",
       "      <td>32</td>\n",
       "    </tr>\n",
       "    <tr>\n",
       "      <th>1</th>\n",
       "      <td>02-01-2023</td>\n",
       "      <td>Toys</td>\n",
       "      <td>569.48</td>\n",
       "      <td>3.60</td>\n",
       "      <td>Premium</td>\n",
       "      <td>6807.56</td>\n",
       "      <td>16</td>\n",
       "    </tr>\n",
       "    <tr>\n",
       "      <th>2</th>\n",
       "      <td>03-01-2023</td>\n",
       "      <td>Home Decor</td>\n",
       "      <td>699.68</td>\n",
       "      <td>3.56</td>\n",
       "      <td>Premium</td>\n",
       "      <td>3793.91</td>\n",
       "      <td>27</td>\n",
       "    </tr>\n",
       "    <tr>\n",
       "      <th>3</th>\n",
       "      <td>04-01-2023</td>\n",
       "      <td>Toys</td>\n",
       "      <td>923.27</td>\n",
       "      <td>0.61</td>\n",
       "      <td>Premium</td>\n",
       "      <td>9422.75</td>\n",
       "      <td>29</td>\n",
       "    </tr>\n",
       "    <tr>\n",
       "      <th>4</th>\n",
       "      <td>05-01-2023</td>\n",
       "      <td>Toys</td>\n",
       "      <td>710.17</td>\n",
       "      <td>47.83</td>\n",
       "      <td>Premium</td>\n",
       "      <td>1756.83</td>\n",
       "      <td>17</td>\n",
       "    </tr>\n",
       "  </tbody>\n",
       "</table>\n",
       "</div>"
      ],
      "text/plain": [
       "         Date Product_Category   Price  Discount Customer_Segment  \\\n",
       "0  01-01-2023           Sports  932.80     35.82       Occasional   \n",
       "1  02-01-2023             Toys  569.48      3.60          Premium   \n",
       "2  03-01-2023       Home Decor  699.68      3.56          Premium   \n",
       "3  04-01-2023             Toys  923.27      0.61          Premium   \n",
       "4  05-01-2023             Toys  710.17     47.83          Premium   \n",
       "\n",
       "   Marketing_Spend  Units_Sold  \n",
       "0          6780.38          32  \n",
       "1          6807.56          16  \n",
       "2          3793.91          27  \n",
       "3          9422.75          29  \n",
       "4          1756.83          17  "
      ]
     },
     "execution_count": 117,
     "metadata": {},
     "output_type": "execute_result"
    }
   ],
   "source": [
    "data.head()"
   ]
  },
  {
   "cell_type": "code",
   "execution_count": 119,
   "id": "96c902b4-2c0f-42f5-b00b-7684695428a8",
   "metadata": {},
   "outputs": [
    {
     "name": "stdout",
     "output_type": "stream",
     "text": [
      "<class 'pandas.core.frame.DataFrame'>\n",
      "RangeIndex: 1000 entries, 0 to 999\n",
      "Data columns (total 7 columns):\n",
      " #   Column            Non-Null Count  Dtype  \n",
      "---  ------            --------------  -----  \n",
      " 0   Date              1000 non-null   object \n",
      " 1   Product_Category  1000 non-null   object \n",
      " 2   Price             1000 non-null   float64\n",
      " 3   Discount          1000 non-null   float64\n",
      " 4   Customer_Segment  1000 non-null   object \n",
      " 5   Marketing_Spend   1000 non-null   float64\n",
      " 6   Units_Sold        1000 non-null   int64  \n",
      "dtypes: float64(3), int64(1), object(3)\n",
      "memory usage: 54.8+ KB\n"
     ]
    }
   ],
   "source": [
    "#checking to see if there are any null values\n",
    "data.info(show_counts = True)"
   ]
  },
  {
   "cell_type": "code",
   "execution_count": 121,
   "id": "769ba893-b1e2-49f7-b58a-d8720dad7df0",
   "metadata": {},
   "outputs": [
    {
     "name": "stdout",
     "output_type": "stream",
     "text": [
      "Range of dates: 01-01-2023 to 31-12-2024\n",
      "----------\n",
      "Product_Category\n",
      "Electronics    210\n",
      "Sports         206\n",
      "Toys           204\n",
      "Home Decor     190\n",
      "Fashion        190\n",
      "Name: count, dtype: int64\n",
      "----------\n",
      "Customer_Segment\n",
      "Regular       345\n",
      "Occasional    339\n",
      "Premium       316\n",
      "Name: count, dtype: int64\n"
     ]
    }
   ],
   "source": [
    "print(\"Range of dates:\",data[\"Date\"].min(),\"to\",data[\"Date\"].max())\n",
    "print(\"----------\")\n",
    "print(data[\"Product_Category\"].value_counts())\n",
    "print(\"----------\")\n",
    "print(data[\"Customer_Segment\"].value_counts())"
   ]
  },
  {
   "cell_type": "code",
   "execution_count": 123,
   "id": "b824e369-f9f7-46b6-bf33-55c80b7556c2",
   "metadata": {},
   "outputs": [
    {
     "name": "stdout",
     "output_type": "stream",
     "text": [
      "all values in below columns are unique\n",
      "Date\n",
      "Marketing_Spend\n"
     ]
    }
   ],
   "source": [
    "print(\"all values in below columns are unique\")\n",
    "for column in data.columns:\n",
    "    if data[column].is_unique:\n",
    "        print(column)"
   ]
  },
  {
   "cell_type": "code",
   "execution_count": 125,
   "id": "d68d6785-a0c5-4e86-8d83-97f5a377e5be",
   "metadata": {},
   "outputs": [
    {
     "name": "stdout",
     "output_type": "stream",
     "text": [
      "duplicate rows: 0\n"
     ]
    }
   ],
   "source": [
    "#Checking to see if there are any duplicate rows\n",
    "print(\"duplicate rows:\",data.duplicated().sum())"
   ]
  },
  {
   "cell_type": "code",
   "execution_count": 127,
   "id": "1c2b3453-b703-46f7-85ee-256c2840d520",
   "metadata": {},
   "outputs": [
    {
     "data": {
      "text/html": [
       "<div>\n",
       "<style scoped>\n",
       "    .dataframe tbody tr th:only-of-type {\n",
       "        vertical-align: middle;\n",
       "    }\n",
       "\n",
       "    .dataframe tbody tr th {\n",
       "        vertical-align: top;\n",
       "    }\n",
       "\n",
       "    .dataframe thead th {\n",
       "        text-align: right;\n",
       "    }\n",
       "</style>\n",
       "<table border=\"1\" class=\"dataframe\">\n",
       "  <thead>\n",
       "    <tr style=\"text-align: right;\">\n",
       "      <th></th>\n",
       "      <th>Price</th>\n",
       "      <th>Discount</th>\n",
       "      <th>Marketing_Spend</th>\n",
       "      <th>Units_Sold</th>\n",
       "    </tr>\n",
       "  </thead>\n",
       "  <tbody>\n",
       "    <tr>\n",
       "      <th>count</th>\n",
       "      <td>1000.000000</td>\n",
       "      <td>1000.000000</td>\n",
       "      <td>1000.000000</td>\n",
       "      <td>1000.000000</td>\n",
       "    </tr>\n",
       "    <tr>\n",
       "      <th>mean</th>\n",
       "      <td>505.241920</td>\n",
       "      <td>24.919750</td>\n",
       "      <td>4912.830240</td>\n",
       "      <td>29.631000</td>\n",
       "    </tr>\n",
       "    <tr>\n",
       "      <th>std</th>\n",
       "      <td>289.791248</td>\n",
       "      <td>14.439951</td>\n",
       "      <td>2840.602656</td>\n",
       "      <td>7.267989</td>\n",
       "    </tr>\n",
       "    <tr>\n",
       "      <th>min</th>\n",
       "      <td>14.590000</td>\n",
       "      <td>0.010000</td>\n",
       "      <td>100.300000</td>\n",
       "      <td>5.000000</td>\n",
       "    </tr>\n",
       "    <tr>\n",
       "      <th>25%</th>\n",
       "      <td>243.342500</td>\n",
       "      <td>12.995000</td>\n",
       "      <td>2413.020000</td>\n",
       "      <td>24.000000</td>\n",
       "    </tr>\n",
       "    <tr>\n",
       "      <th>50%</th>\n",
       "      <td>509.310000</td>\n",
       "      <td>24.965000</td>\n",
       "      <td>4837.245000</td>\n",
       "      <td>30.000000</td>\n",
       "    </tr>\n",
       "    <tr>\n",
       "      <th>75%</th>\n",
       "      <td>747.592500</td>\n",
       "      <td>37.562500</td>\n",
       "      <td>7319.675000</td>\n",
       "      <td>34.000000</td>\n",
       "    </tr>\n",
       "    <tr>\n",
       "      <th>max</th>\n",
       "      <td>999.420000</td>\n",
       "      <td>49.920000</td>\n",
       "      <td>9995.620000</td>\n",
       "      <td>57.000000</td>\n",
       "    </tr>\n",
       "  </tbody>\n",
       "</table>\n",
       "</div>"
      ],
      "text/plain": [
       "             Price     Discount  Marketing_Spend   Units_Sold\n",
       "count  1000.000000  1000.000000      1000.000000  1000.000000\n",
       "mean    505.241920    24.919750      4912.830240    29.631000\n",
       "std     289.791248    14.439951      2840.602656     7.267989\n",
       "min      14.590000     0.010000       100.300000     5.000000\n",
       "25%     243.342500    12.995000      2413.020000    24.000000\n",
       "50%     509.310000    24.965000      4837.245000    30.000000\n",
       "75%     747.592500    37.562500      7319.675000    34.000000\n",
       "max     999.420000    49.920000      9995.620000    57.000000"
      ]
     },
     "execution_count": 127,
     "metadata": {},
     "output_type": "execute_result"
    }
   ],
   "source": [
    "data.describe()"
   ]
  },
  {
   "cell_type": "code",
   "execution_count": 129,
   "id": "38e89ce2-685c-4b32-bc0c-b085f97e0e51",
   "metadata": {},
   "outputs": [
    {
     "data": {
      "image/png": "[encoded data removed]",
      "text/plain": [
       "<Figure size 2000x500 with 4 Axes>"
      ]
     },
     "metadata": {},
     "output_type": "display_data"
    }
   ],
   "source": [
    "cols = ['Price', 'Discount', 'Marketing_Spend', 'Units_Sold']\n",
    "n = len(cols)\n",
    "\n",
    "fig, axes = plt.subplots(1, n, figsize=(5 * n, 5))\n",
    "\n",
    "for i, col in enumerate(cols):\n",
    "    sns.boxplot(y=data[col], ax=axes[i])\n",
    "    axes[i].set_title(col)\n",
    "\n",
    "plt.tight_layout()\n",
    "plt.show()"
   ]
  },
  {
   "cell_type": "code",
   "execution_count": 131,
   "id": "48e72f54-fab5-4e9e-a314-033babfa0367",
   "metadata": {},
   "outputs": [
    {
     "data": {
      "text/html": [
       "<div>\n",
       "<style scoped>\n",
       "    .dataframe tbody tr th:only-of-type {\n",
       "        vertical-align: middle;\n",
       "    }\n",
       "\n",
       "    .dataframe tbody tr th {\n",
       "        vertical-align: top;\n",
       "    }\n",
       "\n",
       "    .dataframe thead th {\n",
       "        text-align: right;\n",
       "    }\n",
       "</style>\n",
       "<table border=\"1\" class=\"dataframe\">\n",
       "  <thead>\n",
       "    <tr style=\"text-align: right;\">\n",
       "      <th></th>\n",
       "      <th>Date</th>\n",
       "      <th>Product_Category</th>\n",
       "      <th>Price</th>\n",
       "      <th>Discount</th>\n",
       "      <th>Customer_Segment</th>\n",
       "      <th>Marketing_Spend</th>\n",
       "      <th>Units_Sold</th>\n",
       "    </tr>\n",
       "  </thead>\n",
       "  <tbody>\n",
       "    <tr>\n",
       "      <th>261</th>\n",
       "      <td>19-09-2023</td>\n",
       "      <td>Home Decor</td>\n",
       "      <td>407.91</td>\n",
       "      <td>20.59</td>\n",
       "      <td>Occasional</td>\n",
       "      <td>7091.84</td>\n",
       "      <td>5</td>\n",
       "    </tr>\n",
       "    <tr>\n",
       "      <th>522</th>\n",
       "      <td>06-06-2024</td>\n",
       "      <td>Sports</td>\n",
       "      <td>90.81</td>\n",
       "      <td>21.09</td>\n",
       "      <td>Occasional</td>\n",
       "      <td>7123.44</td>\n",
       "      <td>52</td>\n",
       "    </tr>\n",
       "    <tr>\n",
       "      <th>641</th>\n",
       "      <td>03-10-2024</td>\n",
       "      <td>Toys</td>\n",
       "      <td>707.63</td>\n",
       "      <td>17.02</td>\n",
       "      <td>Occasional</td>\n",
       "      <td>4837.43</td>\n",
       "      <td>57</td>\n",
       "    </tr>\n",
       "  </tbody>\n",
       "</table>\n",
       "</div>"
      ],
      "text/plain": [
       "           Date Product_Category   Price  Discount Customer_Segment  \\\n",
       "261  19-09-2023       Home Decor  407.91     20.59       Occasional   \n",
       "522  06-06-2024           Sports   90.81     21.09       Occasional   \n",
       "641  03-10-2024             Toys  707.63     17.02       Occasional   \n",
       "\n",
       "     Marketing_Spend  Units_Sold  \n",
       "261          7091.84           5  \n",
       "522          7123.44          52  \n",
       "641          4837.43          57  "
      ]
     },
     "execution_count": 131,
     "metadata": {},
     "output_type": "execute_result"
    }
   ],
   "source": [
    "#checking the rows with outliers for Units_Sold\n",
    "data[(data[\"Units_Sold\"] > 50) | (data[\"Units_Sold\"] < 10)]"
   ]
  },
  {
   "cell_type": "code",
   "execution_count": null,
   "id": "e64c170a-e431-401f-b909-23499bf4b588",
   "metadata": {},
   "outputs": [],
   "source": []
  }
 ],
 "metadata": {
  "kernelspec": {
   "display_name": "Python [conda env:capstonetwo_project]",
   "language": "python",
   "name": "conda-env-capstonetwo_project-py"
  },
  "language_info": {
   "codemirror_mode": {
    "name": "ipython",
    "version": 3
   },
   "file_extension": ".py",
   "mimetype": "text/x-python",
   "name": "python",
   "nbconvert_exporter": "python",
   "pygments_lexer": "ipython3",
   "version": "3.12.10"
  }
 },
 "nbformat": 4,
 "nbformat_minor": 5
}
