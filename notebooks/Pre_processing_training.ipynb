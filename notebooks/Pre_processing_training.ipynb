{
 "cells": [
  {
   "cell_type": "markdown",
   "id": "cd6ddbeb-94f9-40a6-b9d6-773fb2157215",
   "metadata": {},
   "source": [
    "# Pre-Processing and Training Data Development<a id='Pre-Processing_and_Training_Data_Development'></a>"
   ]
  },
  {
   "cell_type": "markdown",
   "id": "74795261-43f3-4d59-92c3-d4a4682933ff",
   "metadata": {},
   "source": [
    "## Contents<a id=\"Contents\"></a>  \n",
    "* [Introduction](#Introduction)\n",
    "* [Imports](#Imports)\n",
    "* [Loading the data](#Loading_the_data)\n",
    "* [Train/Test Split](#Train/Test_Split)\n",
    "* [Feature Engineering](#Feature_Engineering)\n",
    "* [Scale/encode numeric/categorical features](#Scale/encode_numeric/categorical_features)\n",
    "* [Save Preprocessed Data](#Save_Preprocessed_Data)\n"
   ]
  },
  {
   "cell_type": "markdown",
   "id": "690ef63a-c359-4c19-a159-fd7ee421d9c2",
   "metadata": {},
   "source": [
    "## Introduction<a id='Introduction'></a>"
   ]
  },
  {
   "cell_type": "markdown",
   "id": "7316365c-6b87-45cb-b541-684ed1324fa2",
   "metadata": {},
   "source": [
    "The goal in this notebook is to create a cleaned development dataset I can use to complete the\n",
    "modeling step of my project. "
   ]
  },
  {
   "cell_type": "markdown",
   "id": "c9601551-e0dc-4b44-be34-2c7d69156046",
   "metadata": {},
   "source": [
    "## Imports<a id='Imports'></a>"
   ]
  },
  {
   "cell_type": "code",
   "execution_count": 212,
   "id": "46bb9a83-8668-4aac-967b-51712ad6f6f4",
   "metadata": {},
   "outputs": [],
   "source": [
    "import pandas as pd\n",
    "from sklearn.model_selection import train_test_split\n",
    "from sklearn.preprocessing import OneHotEncoder\n",
    "from sklearn.preprocessing import scale\n",
    "from sklearn.preprocessing import StandardScaler\n"
   ]
  },
  {
   "cell_type": "markdown",
   "id": "5676c211-6741-4bb1-bea8-1e01e35506fa",
   "metadata": {},
   "source": [
    "## Loading the data<a id='Loading_the_data'></a>"
   ]
  },
  {
   "cell_type": "code",
   "execution_count": 215,
   "id": "029f16a3-4392-4cb4-933a-7bcf554b821a",
   "metadata": {},
   "outputs": [
    {
     "name": "stdout",
     "output_type": "stream",
     "text": [
      "<class 'pandas.core.frame.DataFrame'>\n",
      "RangeIndex: 1000 entries, 0 to 999\n",
      "Data columns (total 7 columns):\n",
      " #   Column            Non-Null Count  Dtype  \n",
      "---  ------            --------------  -----  \n",
      " 0   Date              1000 non-null   object \n",
      " 1   Product_Category  1000 non-null   object \n",
      " 2   Price             1000 non-null   float64\n",
      " 3   Discount          1000 non-null   float64\n",
      " 4   Customer_Segment  1000 non-null   object \n",
      " 5   Marketing_Spend   1000 non-null   float64\n",
      " 6   Units_Sold        1000 non-null   int64  \n",
      "dtypes: float64(3), int64(1), object(3)\n",
      "memory usage: 54.8+ KB\n",
      "None\n"
     ]
    }
   ],
   "source": [
    "data = pd.read_csv(\"../data/raw/Ecommerce_Sales_Prediction_Dataset.csv\")\n",
    "print(data.info())"
   ]
  },
  {
   "cell_type": "code",
   "execution_count": 217,
   "id": "e5d4db5a-1b4d-4174-9e99-1a40b194bdea",
   "metadata": {},
   "outputs": [
    {
     "name": "stdout",
     "output_type": "stream",
     "text": [
      "<class 'pandas.core.frame.DataFrame'>\n",
      "RangeIndex: 1000 entries, 0 to 999\n",
      "Data columns (total 7 columns):\n",
      " #   Column            Non-Null Count  Dtype         \n",
      "---  ------            --------------  -----         \n",
      " 0   Date              1000 non-null   datetime64[ns]\n",
      " 1   Product_Category  1000 non-null   object        \n",
      " 2   Price             1000 non-null   float64       \n",
      " 3   Discount          1000 non-null   float64       \n",
      " 4   Customer_Segment  1000 non-null   object        \n",
      " 5   Marketing_Spend   1000 non-null   float64       \n",
      " 6   Units_Sold        1000 non-null   int64         \n",
      "dtypes: datetime64[ns](1), float64(3), int64(1), object(2)\n",
      "memory usage: 54.8+ KB\n"
     ]
    }
   ],
   "source": [
    "# Convert to datetime\n",
    "data['Date'] = pd.to_datetime(data['Date'], format='%d-%m-%Y')\n",
    "data.info()"
   ]
  },
  {
   "cell_type": "code",
   "execution_count": 219,
   "id": "aa032477-1361-4505-842d-b4edfded8eec",
   "metadata": {},
   "outputs": [],
   "source": [
    "data = data.sort_values(\"Date\")  # Always sort by date first!\n",
    "data = data.set_index(\"Date\")"
   ]
  },
  {
   "cell_type": "code",
   "execution_count": 221,
   "id": "fda0becc-ad64-4cd3-9cd3-118386dd8ee0",
   "metadata": {},
   "outputs": [
    {
     "data": {
      "text/html": [
       "<div>\n",
       "<style scoped>\n",
       "    .dataframe tbody tr th:only-of-type {\n",
       "        vertical-align: middle;\n",
       "    }\n",
       "\n",
       "    .dataframe tbody tr th {\n",
       "        vertical-align: top;\n",
       "    }\n",
       "\n",
       "    .dataframe thead th {\n",
       "        text-align: right;\n",
       "    }\n",
       "</style>\n",
       "<table border=\"1\" class=\"dataframe\">\n",
       "  <thead>\n",
       "    <tr style=\"text-align: right;\">\n",
       "      <th></th>\n",
       "      <th>Product_Category</th>\n",
       "      <th>Price</th>\n",
       "      <th>Discount</th>\n",
       "      <th>Customer_Segment</th>\n",
       "      <th>Marketing_Spend</th>\n",
       "      <th>Units_Sold</th>\n",
       "    </tr>\n",
       "    <tr>\n",
       "      <th>Date</th>\n",
       "      <th></th>\n",
       "      <th></th>\n",
       "      <th></th>\n",
       "      <th></th>\n",
       "      <th></th>\n",
       "      <th></th>\n",
       "    </tr>\n",
       "  </thead>\n",
       "  <tbody>\n",
       "    <tr>\n",
       "      <th>2023-01-01</th>\n",
       "      <td>Sports</td>\n",
       "      <td>932.80</td>\n",
       "      <td>35.82</td>\n",
       "      <td>Occasional</td>\n",
       "      <td>6780.38</td>\n",
       "      <td>32</td>\n",
       "    </tr>\n",
       "    <tr>\n",
       "      <th>2023-01-02</th>\n",
       "      <td>Toys</td>\n",
       "      <td>569.48</td>\n",
       "      <td>3.60</td>\n",
       "      <td>Premium</td>\n",
       "      <td>6807.56</td>\n",
       "      <td>16</td>\n",
       "    </tr>\n",
       "    <tr>\n",
       "      <th>2023-01-03</th>\n",
       "      <td>Home Decor</td>\n",
       "      <td>699.68</td>\n",
       "      <td>3.56</td>\n",
       "      <td>Premium</td>\n",
       "      <td>3793.91</td>\n",
       "      <td>27</td>\n",
       "    </tr>\n",
       "    <tr>\n",
       "      <th>2023-01-04</th>\n",
       "      <td>Toys</td>\n",
       "      <td>923.27</td>\n",
       "      <td>0.61</td>\n",
       "      <td>Premium</td>\n",
       "      <td>9422.75</td>\n",
       "      <td>29</td>\n",
       "    </tr>\n",
       "    <tr>\n",
       "      <th>2023-01-05</th>\n",
       "      <td>Toys</td>\n",
       "      <td>710.17</td>\n",
       "      <td>47.83</td>\n",
       "      <td>Premium</td>\n",
       "      <td>1756.83</td>\n",
       "      <td>17</td>\n",
       "    </tr>\n",
       "  </tbody>\n",
       "</table>\n",
       "</div>"
      ],
      "text/plain": [
       "           Product_Category   Price  Discount Customer_Segment  \\\n",
       "Date                                                             \n",
       "2023-01-01           Sports  932.80     35.82       Occasional   \n",
       "2023-01-02             Toys  569.48      3.60          Premium   \n",
       "2023-01-03       Home Decor  699.68      3.56          Premium   \n",
       "2023-01-04             Toys  923.27      0.61          Premium   \n",
       "2023-01-05             Toys  710.17     47.83          Premium   \n",
       "\n",
       "            Marketing_Spend  Units_Sold  \n",
       "Date                                     \n",
       "2023-01-01          6780.38          32  \n",
       "2023-01-02          6807.56          16  \n",
       "2023-01-03          3793.91          27  \n",
       "2023-01-04          9422.75          29  \n",
       "2023-01-05          1756.83          17  "
      ]
     },
     "execution_count": 221,
     "metadata": {},
     "output_type": "execute_result"
    }
   ],
   "source": [
    "data.head()"
   ]
  },
  {
   "cell_type": "markdown",
   "id": "312d29de-ed2f-4f84-a4b6-f465cf788d5a",
   "metadata": {},
   "source": [
    "## Train/Test Split<a id='Train/Test_Split'></a>"
   ]
  },
  {
   "cell_type": "code",
   "execution_count": 224,
   "id": "1a10863f-cd7e-4417-a453-b3dd394d0cb7",
   "metadata": {},
   "outputs": [
    {
     "name": "stdout",
     "output_type": "stream",
     "text": [
      "           Product_Category   Price  Discount Customer_Segment  \\\n",
      "Date                                                             \n",
      "2025-03-11       Home Decor  281.42     13.57          Premium   \n",
      "2025-03-12       Home Decor   88.63     24.83          Regular   \n",
      "2025-03-13           Sports   94.80     14.21          Regular   \n",
      "2025-03-14             Toys  895.25      6.69       Occasional   \n",
      "2025-03-15          Fashion  199.95     31.48          Premium   \n",
      "\n",
      "            Marketing_Spend  Units_Sold  \n",
      "Date                                     \n",
      "2025-03-11           714.16          23  \n",
      "2025-03-12          3459.12          24  \n",
      "2025-03-13          5108.72          36  \n",
      "2025-03-14          1703.04          31  \n",
      "2025-03-15          6615.21          36  \n"
     ]
    }
   ],
   "source": [
    "#  Train/test split (chronological)\n",
    "train_size = int(len(data) * 0.8)\n",
    "train = data.iloc[:train_size]\n",
    "test = data.iloc[train_size:]\n",
    "print(test.head())"
   ]
  },
  {
   "cell_type": "code",
   "execution_count": 226,
   "id": "7fb334ab-dfe6-4d8b-aacd-08edfc9b09fb",
   "metadata": {},
   "outputs": [
    {
     "name": "stdout",
     "output_type": "stream",
     "text": [
      "           Product_Category   Price  Discount Customer_Segment  \\\n",
      "Date                                                             \n",
      "2023-01-01           Sports  932.80     35.82       Occasional   \n",
      "2023-01-02             Toys  569.48      3.60          Premium   \n",
      "2023-01-03       Home Decor  699.68      3.56          Premium   \n",
      "2023-01-04             Toys  923.27      0.61          Premium   \n",
      "2023-01-05             Toys  710.17     47.83          Premium   \n",
      "\n",
      "            Marketing_Spend  \n",
      "Date                         \n",
      "2023-01-01          6780.38  \n",
      "2023-01-02          6807.56  \n",
      "2023-01-03          3793.91  \n",
      "2023-01-04          9422.75  \n",
      "2023-01-05          1756.83  \n"
     ]
    }
   ],
   "source": [
    "# Separate target and features\n",
    "target_column = \"Units_Sold\"\n",
    "X_train = train.drop(columns=[target_column])\n",
    "y_train = train[target_column]\n",
    "X_test = test.drop(columns=[target_column])\n",
    "y_test = test[target_column]\n",
    "print(X_train.head())"
   ]
  },
  {
   "cell_type": "markdown",
   "id": "a8f90e3a-2fae-42da-9768-e2cfb8d90b6e",
   "metadata": {},
   "source": [
    "## Feature Engineering<a id=\"Feature_Engineering\"></a>"
   ]
  },
  {
   "cell_type": "code",
   "execution_count": 229,
   "id": "be2e79e3-ab2d-43b6-88b9-47ea8adea7a1",
   "metadata": {},
   "outputs": [
    {
     "name": "stdout",
     "output_type": "stream",
     "text": [
      "           Product_Category   Price  Discount Customer_Segment  \\\n",
      "Date                                                             \n",
      "2023-01-01           Sports  932.80     35.82       Occasional   \n",
      "2023-01-02             Toys  569.48      3.60          Premium   \n",
      "2023-01-03       Home Decor  699.68      3.56          Premium   \n",
      "2023-01-04             Toys  923.27      0.61          Premium   \n",
      "2023-01-05             Toys  710.17     47.83          Premium   \n",
      "\n",
      "            Marketing_Spend  month  day  weekday  \n",
      "Date                                              \n",
      "2023-01-01          6780.38      1    1        6  \n",
      "2023-01-02          6807.56      1    2        0  \n",
      "2023-01-03          3793.91      1    3        1  \n",
      "2023-01-04          9422.75      1    4        2  \n",
      "2023-01-05          1756.83      1    5        3  \n"
     ]
    }
   ],
   "source": [
    "# Date feature extraction\n",
    "for X in [X_train, X_test]:\n",
    "    X[\"month\"] = X.index.month\n",
    "    X[\"day\"] = X.index.day\n",
    "    X[\"weekday\"] = X.index.weekday\n",
    "print(X_train.head())"
   ]
  },
  {
   "cell_type": "markdown",
   "id": "aa9b02de-7154-447c-94ce-737d731a8223",
   "metadata": {},
   "source": [
    "## Scale/encode numeric/categorical features<a id=\"Scale/encode_numeric/categorical_features\"></a>"
   ]
  },
  {
   "cell_type": "code",
   "execution_count": 232,
   "id": "164ee8b2-41f0-4099-b895-e85a07f569d9",
   "metadata": {},
   "outputs": [],
   "source": [
    "# Scaling features\n",
    "numeric_features = ['Price','Discount','Marketing_Spend', 'month', 'day', 'weekday']\n",
    "categorical_features = [\"Product_Category\",'Customer_Segment']"
   ]
  },
  {
   "cell_type": "code",
   "execution_count": 234,
   "id": "c3963e86-d6fd-410f-ae69-923f780c82c8",
   "metadata": {},
   "outputs": [],
   "source": [
    "# Combine train and test separately\n",
    "X_train = pd.get_dummies(X_train, columns=categorical_features, drop_first=False)\n",
    "X_test = pd.get_dummies(X_test, columns=categorical_features, drop_first=False)\n",
    "\n",
    "# Align columns to make sure train/test have the same columns\n",
    "X_test = X_test_encoded.reindex(columns=X_train_encoded.columns, fill_value=0)\n"
   ]
  },
  {
   "cell_type": "code",
   "execution_count": 236,
   "id": "32e451e1-8cae-4c1f-9aab-4df0af2bac8e",
   "metadata": {},
   "outputs": [
    {
     "name": "stdout",
     "output_type": "stream",
     "text": [
      "X_train:\n",
      "                Price  Discount  Marketing_Spend     month       day   weekday  \\\n",
      "Date                                                                            \n",
      "2023-01-01  1.469768  0.743485         0.649904 -1.429309 -1.654277  1.497662   \n",
      "2023-01-02  0.214711 -1.503750         0.659487 -1.429309 -1.540795 -1.497662   \n",
      "2023-01-03  0.664476 -1.506540        -0.403064 -1.429309 -1.427314 -0.998441   \n",
      "2023-01-04  1.436848 -1.712292         1.581550 -1.429309 -1.313832 -0.499221   \n",
      "2023-01-05  0.700712  1.581141        -1.121296 -1.429309 -1.200351  0.000000   \n",
      "...              ...       ...              ...       ...       ...       ...   \n",
      "2025-03-06  1.671990  1.048975        -0.829759 -0.869207 -1.086869  0.000000   \n",
      "2025-03-07 -1.278873  0.172260        -1.285034 -0.869207 -0.973388  0.499221   \n",
      "2025-03-08 -1.361917  0.059271         0.334910 -0.869207 -0.859906  0.998441   \n",
      "2025-03-09  0.759196 -1.256847         1.677994 -0.869207 -0.746425  1.497662   \n",
      "2025-03-10  0.260033  0.949237        -0.386598 -0.869207 -0.632943 -1.497662   \n",
      "\n",
      "            Product_Category_Electronics  Product_Category_Fashion  \\\n",
      "Date                                                                 \n",
      "2023-01-01                         False                     False   \n",
      "2023-01-02                         False                     False   \n",
      "2023-01-03                         False                     False   \n",
      "2023-01-04                         False                     False   \n",
      "2023-01-05                         False                     False   \n",
      "...                                  ...                       ...   \n",
      "2025-03-06                         False                      True   \n",
      "2025-03-07                         False                     False   \n",
      "2025-03-08                         False                      True   \n",
      "2025-03-09                         False                     False   \n",
      "2025-03-10                         False                     False   \n",
      "\n",
      "            Product_Category_Home Decor  Product_Category_Sports  \\\n",
      "Date                                                               \n",
      "2023-01-01                        False                     True   \n",
      "2023-01-02                        False                    False   \n",
      "2023-01-03                         True                    False   \n",
      "2023-01-04                        False                    False   \n",
      "2023-01-05                        False                    False   \n",
      "...                                 ...                      ...   \n",
      "2025-03-06                        False                    False   \n",
      "2025-03-07                        False                    False   \n",
      "2025-03-08                        False                    False   \n",
      "2025-03-09                         True                    False   \n",
      "2025-03-10                         True                    False   \n",
      "\n",
      "            Product_Category_Toys  Customer_Segment_Occasional  \\\n",
      "Date                                                             \n",
      "2023-01-01                  False                         True   \n",
      "2023-01-02                   True                        False   \n",
      "2023-01-03                  False                        False   \n",
      "2023-01-04                   True                        False   \n",
      "2023-01-05                   True                        False   \n",
      "...                           ...                          ...   \n",
      "2025-03-06                  False                         True   \n",
      "2025-03-07                   True                         True   \n",
      "2025-03-08                  False                        False   \n",
      "2025-03-09                  False                         True   \n",
      "2025-03-10                  False                        False   \n",
      "\n",
      "            Customer_Segment_Premium  Customer_Segment_Regular  \n",
      "Date                                                            \n",
      "2023-01-01                     False                     False  \n",
      "2023-01-02                      True                     False  \n",
      "2023-01-03                      True                     False  \n",
      "2023-01-04                      True                     False  \n",
      "2023-01-05                      True                     False  \n",
      "...                              ...                       ...  \n",
      "2025-03-06                     False                     False  \n",
      "2025-03-07                     False                     False  \n",
      "2025-03-08                      True                     False  \n",
      "2025-03-09                     False                     False  \n",
      "2025-03-10                      True                     False  \n",
      "\n",
      "[800 rows x 14 columns]\n",
      "y_train:\n",
      " Date\n",
      "2023-01-01    32\n",
      "2023-01-02    16\n",
      "2023-01-03    27\n",
      "2023-01-04    29\n",
      "2023-01-05    17\n",
      "              ..\n",
      "2025-03-06    31\n",
      "2025-03-07    27\n",
      "2025-03-08    19\n",
      "2025-03-09    31\n",
      "2025-03-10    32\n",
      "Name: Units_Sold, Length: 800, dtype: int64\n",
      "X_test:\n",
      "                Price  Discount  Marketing_Spend     month       day   weekday  \\\n",
      "Date                                                                            \n",
      "2025-03-11 -0.780367 -0.808377        -1.488920 -0.869207 -0.519462 -0.998441   \n",
      "2025-03-12 -1.446343 -0.023030        -0.521104 -0.869207 -0.405980 -0.499221   \n",
      "2025-03-13 -1.425029 -0.763739         0.060511 -0.869207 -0.292499  0.000000   \n",
      "2025-03-14  1.340055 -1.288233        -1.140262 -0.869207 -0.179017  0.499221   \n",
      "2025-03-15 -1.061798  0.440784         0.591669 -0.869207 -0.065536  0.998441   \n",
      "...              ...       ...              ...       ...       ...       ...   \n",
      "2025-09-22  0.803965  1.666929        -1.074051  0.811097  0.728835 -1.497662   \n",
      "2025-09-23  0.033769  0.231545         1.084028  0.811097  0.842316 -0.998441   \n",
      "2025-09-24  0.608341 -0.849527        -0.538948  0.811097  0.955798 -0.499221   \n",
      "2025-09-25 -1.575435 -0.230875         0.845670  0.811097  1.069279  0.000000   \n",
      "2025-09-26 -1.428000  0.315241        -0.239396  0.811097  1.182761  0.499221   \n",
      "\n",
      "            Product_Category_Electronics  Product_Category_Fashion  \\\n",
      "Date                                                                 \n",
      "2025-03-11                         False                     False   \n",
      "2025-03-12                         False                     False   \n",
      "2025-03-13                         False                     False   \n",
      "2025-03-14                         False                     False   \n",
      "2025-03-15                         False                      True   \n",
      "...                                  ...                       ...   \n",
      "2025-09-22                         False                      True   \n",
      "2025-09-23                          True                     False   \n",
      "2025-09-24                          True                     False   \n",
      "2025-09-25                         False                     False   \n",
      "2025-09-26                         False                     False   \n",
      "\n",
      "            Product_Category_Home Decor  Product_Category_Sports  \\\n",
      "Date                                                               \n",
      "2025-03-11                         True                    False   \n",
      "2025-03-12                         True                    False   \n",
      "2025-03-13                        False                     True   \n",
      "2025-03-14                        False                    False   \n",
      "2025-03-15                        False                    False   \n",
      "...                                 ...                      ...   \n",
      "2025-09-22                        False                    False   \n",
      "2025-09-23                        False                    False   \n",
      "2025-09-24                        False                    False   \n",
      "2025-09-25                        False                     True   \n",
      "2025-09-26                         True                    False   \n",
      "\n",
      "            Product_Category_Toys  Customer_Segment_Occasional  \\\n",
      "Date                                                             \n",
      "2025-03-11                  False                        False   \n",
      "2025-03-12                  False                        False   \n",
      "2025-03-13                  False                        False   \n",
      "2025-03-14                   True                         True   \n",
      "2025-03-15                  False                        False   \n",
      "...                           ...                          ...   \n",
      "2025-09-22                  False                        False   \n",
      "2025-09-23                  False                        False   \n",
      "2025-09-24                  False                         True   \n",
      "2025-09-25                  False                         True   \n",
      "2025-09-26                  False                        False   \n",
      "\n",
      "            Customer_Segment_Premium  Customer_Segment_Regular  \n",
      "Date                                                            \n",
      "2025-03-11                      True                     False  \n",
      "2025-03-12                     False                      True  \n",
      "2025-03-13                     False                      True  \n",
      "2025-03-14                     False                     False  \n",
      "2025-03-15                      True                     False  \n",
      "...                              ...                       ...  \n",
      "2025-09-22                     False                      True  \n",
      "2025-09-23                      True                     False  \n",
      "2025-09-24                     False                     False  \n",
      "2025-09-25                     False                     False  \n",
      "2025-09-26                     False                      True  \n",
      "\n",
      "[200 rows x 14 columns]\n",
      "y_test:\n",
      " Date\n",
      "2025-03-11    23\n",
      "2025-03-12    24\n",
      "2025-03-13    36\n",
      "2025-03-14    31\n",
      "2025-03-15    36\n",
      "              ..\n",
      "2025-09-22    34\n",
      "2025-09-23    21\n",
      "2025-09-24    19\n",
      "2025-09-25    26\n",
      "2025-09-26    39\n",
      "Name: Units_Sold, Length: 200, dtype: int64\n"
     ]
    }
   ],
   "source": [
    "scaler = StandardScaler()\n",
    "X_train[numeric_features] = scaler.fit_transform(X_train[numeric_features])\n",
    "X_test[numeric_features] = scaler.transform(X_test[numeric_features])\n",
    "\n",
    "# Check shapes\n",
    "print(\"X_train:\\n\", X_train)\n",
    "print(\"y_train:\\n\", y_train)\n",
    "print(\"X_test:\\n\", X_test)\n",
    "print(\"y_test:\\n\", y_test)\n"
   ]
  },
  {
   "cell_type": "code",
   "execution_count": 238,
   "id": "b807d2a3-2443-4471-a8b1-c8d8265104be",
   "metadata": {},
   "outputs": [
    {
     "name": "stdout",
     "output_type": "stream",
     "text": [
      "               Price  Discount  Marketing_Spend     month       day   weekday  \\\n",
      "Date                                                                            \n",
      "2023-01-01  1.469768  0.743485         0.649904 -1.429309 -1.654277  1.497662   \n",
      "2023-01-02  0.214711 -1.503750         0.659487 -1.429309 -1.540795 -1.497662   \n",
      "2023-01-03  0.664476 -1.506540        -0.403064 -1.429309 -1.427314 -0.998441   \n",
      "2023-01-04  1.436848 -1.712292         1.581550 -1.429309 -1.313832 -0.499221   \n",
      "2023-01-05  0.700712  1.581141        -1.121296 -1.429309 -1.200351  0.000000   \n",
      "\n",
      "            Product_Category_Electronics  Product_Category_Fashion  \\\n",
      "Date                                                                 \n",
      "2023-01-01                             0                         0   \n",
      "2023-01-02                             0                         0   \n",
      "2023-01-03                             0                         0   \n",
      "2023-01-04                             0                         0   \n",
      "2023-01-05                             0                         0   \n",
      "\n",
      "            Product_Category_Home Decor  Product_Category_Sports  \\\n",
      "Date                                                               \n",
      "2023-01-01                            0                        1   \n",
      "2023-01-02                            0                        0   \n",
      "2023-01-03                            1                        0   \n",
      "2023-01-04                            0                        0   \n",
      "2023-01-05                            0                        0   \n",
      "\n",
      "            Product_Category_Toys  Customer_Segment_Occasional  \\\n",
      "Date                                                             \n",
      "2023-01-01                      0                            1   \n",
      "2023-01-02                      1                            0   \n",
      "2023-01-03                      0                            0   \n",
      "2023-01-04                      1                            0   \n",
      "2023-01-05                      1                            0   \n",
      "\n",
      "            Customer_Segment_Premium  Customer_Segment_Regular  \n",
      "Date                                                            \n",
      "2023-01-01                         0                         0  \n",
      "2023-01-02                         1                         0  \n",
      "2023-01-03                         1                         0  \n",
      "2023-01-04                         1                         0  \n",
      "2023-01-05                         1                         0  \n"
     ]
    }
   ],
   "source": [
    "# Turning Boolean columns True/False to 1/0\n",
    "for X in [X_train, X_test]:\n",
    "    bool_cols = X.select_dtypes(include=['bool']).columns\n",
    "    X[bool_cols] = X[bool_cols].astype(int)\n",
    "print(X_train.head())   "
   ]
  },
  {
   "cell_type": "markdown",
   "id": "ba5014f8-1e23-40fa-bb3d-9f2e7e4fcdb5",
   "metadata": {},
   "source": [
    "## Save Preprocessed Data<a id=\"Save_Preprocessed_Data\"></a>"
   ]
  },
  {
   "cell_type": "code",
   "execution_count": 241,
   "id": "0a3d64d2-0329-40f6-80f7-cf12c5c28e8e",
   "metadata": {},
   "outputs": [
    {
     "data": {
      "text/plain": [
       "['../data/processed/scaler.joblib']"
      ]
     },
     "execution_count": 241,
     "metadata": {},
     "output_type": "execute_result"
    }
   ],
   "source": [
    "import joblib\n",
    "\n",
    "\n",
    "joblib.dump(X_train, '../data/processed/X_train.joblib')\n",
    "joblib.dump(X_test, '../data/processed/X_test.joblib')\n",
    "joblib.dump(y_train, '../data/processed/y_train.joblib')\n",
    "joblib.dump(y_test, '../data/processed/y_test.joblib')\n",
    "joblib.dump(scaler, '../data/processed/scaler.joblib')"
   ]
  }
 ],
 "metadata": {
  "kernelspec": {
   "display_name": "Python [conda env:capstonetwo_project]",
   "language": "python",
   "name": "conda-env-capstonetwo_project-py"
  },
  "language_info": {
   "codemirror_mode": {
    "name": "ipython",
    "version": 3
   },
   "file_extension": ".py",
   "mimetype": "text/x-python",
   "name": "python",
   "nbconvert_exporter": "python",
   "pygments_lexer": "ipython3",
   "version": "3.12.10"
  }
 },
 "nbformat": 4,
 "nbformat_minor": 5
}
